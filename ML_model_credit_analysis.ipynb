{
 "cells": [
  {
   "cell_type": "code",
   "execution_count": null,
   "id": "e3854cf9",
   "metadata": {},
   "outputs": [],
   "source": [
    "import pandas as pd\n",
    "from sklearn.model_selection import train_test_split\n",
    "from sklearn.preprocessing import LabelEncoder\n",
    "from sklearn.ensemble import RandomForestClassifier\n",
    "from sklearn.metrics import classification_report, confusion_matrix, accuracy_score"
   ]
  },
  {
   "cell_type": "code",
   "execution_count": 16,
   "id": "d2f74b69",
   "metadata": {},
   "outputs": [
    {
     "data": {
      "text/html": [
       "<div>\n",
       "<style scoped>\n",
       "    .dataframe tbody tr th:only-of-type {\n",
       "        vertical-align: middle;\n",
       "    }\n",
       "\n",
       "    .dataframe tbody tr th {\n",
       "        vertical-align: top;\n",
       "    }\n",
       "\n",
       "    .dataframe thead th {\n",
       "        text-align: right;\n",
       "    }\n",
       "</style>\n",
       "<table border=\"1\" class=\"dataframe\">\n",
       "  <thead>\n",
       "    <tr style=\"text-align: right;\">\n",
       "      <th></th>\n",
       "      <th>CustomerID</th>\n",
       "      <th>Age</th>\n",
       "      <th>Gender</th>\n",
       "      <th>Income</th>\n",
       "      <th>LoanAmount</th>\n",
       "      <th>LoanTerm</th>\n",
       "      <th>CreditScore</th>\n",
       "      <th>EmploymentStatus</th>\n",
       "      <th>MaritalStatus</th>\n",
       "      <th>NumberOfDependents</th>\n",
       "      <th>ExistingLoansCount</th>\n",
       "      <th>LoanPurpose</th>\n",
       "      <th>Defaulted</th>\n",
       "    </tr>\n",
       "  </thead>\n",
       "  <tbody>\n",
       "    <tr>\n",
       "      <th>0</th>\n",
       "      <td>1</td>\n",
       "      <td>56</td>\n",
       "      <td>Male</td>\n",
       "      <td>105680</td>\n",
       "      <td>4040</td>\n",
       "      <td>6</td>\n",
       "      <td>808</td>\n",
       "      <td>Self-employed</td>\n",
       "      <td>Single</td>\n",
       "      <td>4</td>\n",
       "      <td>1</td>\n",
       "      <td>Home</td>\n",
       "      <td>1</td>\n",
       "    </tr>\n",
       "    <tr>\n",
       "      <th>1</th>\n",
       "      <td>2</td>\n",
       "      <td>69</td>\n",
       "      <td>Male</td>\n",
       "      <td>22050</td>\n",
       "      <td>43422</td>\n",
       "      <td>48</td>\n",
       "      <td>625</td>\n",
       "      <td>Unemployed</td>\n",
       "      <td>Single</td>\n",
       "      <td>0</td>\n",
       "      <td>3</td>\n",
       "      <td>Business</td>\n",
       "      <td>1</td>\n",
       "    </tr>\n",
       "    <tr>\n",
       "      <th>2</th>\n",
       "      <td>3</td>\n",
       "      <td>46</td>\n",
       "      <td>Male</td>\n",
       "      <td>129996</td>\n",
       "      <td>27160</td>\n",
       "      <td>48</td>\n",
       "      <td>656</td>\n",
       "      <td>Employed</td>\n",
       "      <td>Married</td>\n",
       "      <td>2</td>\n",
       "      <td>1</td>\n",
       "      <td>Home</td>\n",
       "      <td>0</td>\n",
       "    </tr>\n",
       "    <tr>\n",
       "      <th>3</th>\n",
       "      <td>4</td>\n",
       "      <td>32</td>\n",
       "      <td>Male</td>\n",
       "      <td>53933</td>\n",
       "      <td>18633</td>\n",
       "      <td>6</td>\n",
       "      <td>690</td>\n",
       "      <td>Unemployed</td>\n",
       "      <td>Married</td>\n",
       "      <td>4</td>\n",
       "      <td>2</td>\n",
       "      <td>Car</td>\n",
       "      <td>1</td>\n",
       "    </tr>\n",
       "    <tr>\n",
       "      <th>4</th>\n",
       "      <td>5</td>\n",
       "      <td>60</td>\n",
       "      <td>Female</td>\n",
       "      <td>44951</td>\n",
       "      <td>30344</td>\n",
       "      <td>48</td>\n",
       "      <td>384</td>\n",
       "      <td>Unemployed</td>\n",
       "      <td>Single</td>\n",
       "      <td>2</td>\n",
       "      <td>0</td>\n",
       "      <td>Education</td>\n",
       "      <td>1</td>\n",
       "    </tr>\n",
       "  </tbody>\n",
       "</table>\n",
       "</div>"
      ],
      "text/plain": [
       "   CustomerID  Age  Gender  Income  LoanAmount  LoanTerm  CreditScore  \\\n",
       "0           1   56    Male  105680        4040         6          808   \n",
       "1           2   69    Male   22050       43422        48          625   \n",
       "2           3   46    Male  129996       27160        48          656   \n",
       "3           4   32    Male   53933       18633         6          690   \n",
       "4           5   60  Female   44951       30344        48          384   \n",
       "\n",
       "  EmploymentStatus MaritalStatus  NumberOfDependents  ExistingLoansCount  \\\n",
       "0    Self-employed        Single                   4                   1   \n",
       "1       Unemployed        Single                   0                   3   \n",
       "2         Employed       Married                   2                   1   \n",
       "3       Unemployed       Married                   4                   2   \n",
       "4       Unemployed        Single                   2                   0   \n",
       "\n",
       "  LoanPurpose  Defaulted  \n",
       "0        Home          1  \n",
       "1    Business          1  \n",
       "2        Home          0  \n",
       "3         Car          1  \n",
       "4   Education          1  "
      ]
     },
     "execution_count": 16,
     "metadata": {},
     "output_type": "execute_result"
    }
   ],
   "source": [
    "#Reading the csv file into the dataframe\n",
    "df = pd.read_csv(\"credit_analysis.csv\")\n",
    "df.head()"
   ]
  },
  {
   "cell_type": "code",
   "execution_count": null,
   "id": "0479e9e9",
   "metadata": {},
   "outputs": [
    {
     "name": "stdout",
     "output_type": "stream",
     "text": [
      "Missing values per column:\n",
      " CustomerID            0\n",
      "Age                   0\n",
      "Gender                0\n",
      "Income                0\n",
      "LoanAmount            0\n",
      "LoanTerm              0\n",
      "CreditScore           0\n",
      "EmploymentStatus      0\n",
      "MaritalStatus         0\n",
      "NumberOfDependents    0\n",
      "ExistingLoansCount    0\n",
      "LoanPurpose           0\n",
      "Defaulted             0\n",
      "dtype: int64\n"
     ]
    }
   ],
   "source": [
    "# Checking for missing values\n",
    "print(\"Missing values per column:\\n\", df.isnull().sum())"
   ]
  },
  {
   "cell_type": "markdown",
   "id": "4af0bce1",
   "metadata": {},
   "source": [
    "No missing values found in the data. So we move on to the next step."
   ]
  },
  {
   "cell_type": "code",
   "execution_count": null,
   "id": "5123c5e4",
   "metadata": {},
   "outputs": [],
   "source": [
    "#Using Label Encoding for categorical data\n",
    "categorical_cols = ['Gender', 'EmploymentStatus', 'MaritalStatus', 'LoanPurpose']\n",
    "label_encoders = {}\n",
    "for col in categorical_cols:\n",
    "    le = LabelEncoder()\n",
    "    df[col] = le.fit_transform(df[col])\n",
    "    label_encoders[col] = le"
   ]
  },
  {
   "cell_type": "code",
   "execution_count": null,
   "id": "f35a23f7",
   "metadata": {},
   "outputs": [],
   "source": [
    "#Dropping the unwanted columns\n",
    "X = df.drop(columns=['CustomerID','Defaulted'])\n",
    "Y = df['Defaulted']"
   ]
  },
  {
   "cell_type": "code",
   "execution_count": null,
   "id": "d19fb17f",
   "metadata": {},
   "outputs": [],
   "source": [
    "#Training the data using train_test_split\n",
    "X_train, X_test, Y_train, Y_test = train_test_split(X, Y, test_size = 0.2, random_state = 30)"
   ]
  },
  {
   "cell_type": "code",
   "execution_count": null,
   "id": "c2827d5f",
   "metadata": {},
   "outputs": [],
   "source": [
    "#Choosing and fitting the model\n",
    "#(I chose RandomForestClassifier for its strong performance with minimal tuning)\n",
    "model = RandomForestClassifier(n_estimators=100, random_state=26)\n",
    "model.fit(X_train, Y_train)"
   ]
  },
  {
   "cell_type": "code",
   "execution_count": null,
   "id": "05a1126a",
   "metadata": {},
   "outputs": [
    {
     "name": "stdout",
     "output_type": "stream",
     "text": [
      "Accuracy Score:  0.775\n",
      "Classification Report: \n",
      "               precision    recall  f1-score   support\n",
      "\n",
      "           0       0.56      0.44      0.49        50\n",
      "           1       0.83      0.89      0.86       150\n",
      "\n",
      "    accuracy                           0.78       200\n",
      "   macro avg       0.70      0.66      0.67       200\n",
      "weighted avg       0.76      0.78      0.77       200\n",
      "\n",
      "Confusion Matrix: \n",
      " [[ 22  28]\n",
      " [ 17 133]]\n"
     ]
    }
   ],
   "source": [
    "#Predicting the results\n",
    "Y_pred = model.predict(X_test)\n",
    "print('Accuracy Score: ', accuracy_score(Y_test, Y_pred))\n",
    "print('Classification Report: \\n', classification_report(Y_test, Y_pred))\n",
    "print('Confusion Matrix: \\n', confusion_matrix(Y_test, Y_pred))"
   ]
  },
  {
   "cell_type": "markdown",
   "id": "5769b0ee",
   "metadata": {},
   "source": [
    "Since the results did not meet expectations, let us apply hyperparameter tuning and SMOTE to improve the model's performance."
   ]
  },
  {
   "cell_type": "code",
   "execution_count": null,
   "id": "1b571210",
   "metadata": {},
   "outputs": [
    {
     "name": "stdout",
     "output_type": "stream",
     "text": [
      "Best Parameters: {'n_estimators': 100, 'min_samples_split': 5, 'min_samples_leaf': 4, 'max_features': 'sqrt', 'max_depth': 10, 'class_weight': None}\n"
     ]
    }
   ],
   "source": [
    "#Performing hyperparameter tuning to find the best combination of parameters\n",
    "\n",
    "from sklearn.model_selection import RandomizedSearchCV\n",
    "\n",
    "param_grid = {\n",
    "    'n_estimators': [100, 200, 500],\n",
    "    'max_depth': [None, 10, 20, 30],\n",
    "    'min_samples_split': [2, 5, 10],\n",
    "    'min_samples_leaf': [1, 2, 4],\n",
    "    'max_features': ['sqrt', 'log2'],\n",
    "    'class_weight': [None, 'balanced']\n",
    "}\n",
    "\n",
    "rf = RandomForestClassifier(random_state=42)\n",
    "search = RandomizedSearchCV(rf, param_grid, n_iter=20, cv=5, scoring='f1', random_state=42, n_jobs=-1)\n",
    "search.fit(X_train, Y_train)\n",
    "print(\"Best Parameters:\", search.best_params_)\n"
   ]
  },
  {
   "cell_type": "code",
   "execution_count": 13,
   "id": "9c5c8d24",
   "metadata": {},
   "outputs": [
    {
     "name": "stdout",
     "output_type": "stream",
     "text": [
      "Accuracy: 0.8\n",
      "Confusion Matrix:\n",
      " [[ 35  15]\n",
      " [ 25 125]]\n",
      "Classification Report:\n",
      "               precision    recall  f1-score   support\n",
      "\n",
      "           0       0.58      0.70      0.64        50\n",
      "           1       0.89      0.83      0.86       150\n",
      "\n",
      "    accuracy                           0.80       200\n",
      "   macro avg       0.74      0.77      0.75       200\n",
      "weighted avg       0.82      0.80      0.81       200\n",
      "\n"
     ]
    }
   ],
   "source": [
    "from imblearn.over_sampling import SMOTE\n",
    "\n",
    "# Applying SMOTE to the training data to improve the accuracy\n",
    "smote = SMOTE(random_state=42)\n",
    "X_train_sm, Y_train_sm = smote.fit_resample(X_train, Y_train)\n",
    "\n",
    "# Training the model on resampled data after hyperparameter tuning\n",
    "final_model = RandomForestClassifier(\n",
    "    n_estimators=100,\n",
    "    min_samples_split=5,\n",
    "    min_samples_leaf=4,\n",
    "    max_features='sqrt',\n",
    "    max_depth=10,\n",
    "    class_weight=None,\n",
    "    random_state=42\n",
    ")\n",
    "\n",
    "final_model.fit(X_train_sm, Y_train_sm)\n",
    "\n",
    "# Final evaluation\n",
    "y_pred = final_model.predict(X_test)\n",
    "\n",
    "print(\"Accuracy:\", accuracy_score(Y_test, y_pred))\n",
    "print(\"Confusion Matrix:\\n\", confusion_matrix(Y_test, y_pred))\n",
    "print(\"Classification Report:\\n\", classification_report(Y_test, y_pred))\n"
   ]
  },
  {
   "cell_type": "code",
   "execution_count": null,
   "id": "dc8387c6",
   "metadata": {},
   "outputs": [
    {
     "data": {
      "image/png": "[encoded data removed]",
      "text/plain": [
       "<Figure size 640x480 with 2 Axes>"
      ]
     },
     "metadata": {},
     "output_type": "display_data"
    }
   ],
   "source": [
    "# Creating the plot\n",
    "import matplotlib.pyplot as plt\n",
    "from sklearn.metrics import confusion_matrix, ConfusionMatrixDisplay\n",
    "\n",
    "# Suppose y_test and y_pred are your true and predicted labels\n",
    "cm = confusion_matrix(Y_test, y_pred)\n",
    "\n",
    "disp = ConfusionMatrixDisplay(confusion_matrix=cm, display_labels=final_model.classes_)\n",
    "disp.plot(cmap=plt.cm.Blues)\n",
    "\n",
    "plt.title(\"Confusion Matrix\")\n",
    "plt.show()\n"
   ]
  },
  {
   "cell_type": "markdown",
   "id": "18510e57",
   "metadata": {},
   "source": [
    "Before SMOTE\n",
    "Accuracy: 0.775\n",
    "\n",
    "Class 0 Recall: 0.44\n",
    "\n",
    "Confusion Matrix for class 0: [22 28] → Only 44% of class 0 were correctly predicted.\n",
    "\n",
    "After SMOTE\n",
    "Accuracy: 0.80 → Slight increase!\n",
    "\n",
    "Class 0 Recall: 0.70 → Big jump!\n",
    "\n",
    "Confusion Matrix for class 0: [35 15] → Now 70% of class 0 were correctly identified."
   ]
  },
  {
   "cell_type": "code",
   "execution_count": 26,
   "id": "8d529c25",
   "metadata": {},
   "outputs": [
    {
     "data": {
      "text/plain": [
       "['credit_model.pkl']"
      ]
     },
     "execution_count": 26,
     "metadata": {},
     "output_type": "execute_result"
    }
   ],
   "source": [
    "#Saving the model for future use\n",
    "import joblib\n",
    "joblib.dump(final_model, \"credit_model.pkl\")"
   ]
  }
 ],
 "metadata": {
  "kernelspec": {
   "display_name": "credit_model",
   "language": "python",
   "name": "python3"
  },
  "language_info": {
   "codemirror_mode": {
    "name": "ipython",
    "version": 3
   },
   "file_extension": ".py",
   "mimetype": "text/x-python",
   "name": "python",
   "nbconvert_exporter": "python",
   "pygments_lexer": "ipython3",
   "version": "3.9.23"
  }
 },
 "nbformat": 4,
 "nbformat_minor": 5
}
